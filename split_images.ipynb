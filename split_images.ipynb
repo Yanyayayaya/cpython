{
  "nbformat": 4,
  "nbformat_minor": 0,
  "metadata": {
    "colab": {
      "provenance": [],
      "include_colab_link": true
    },
    "kernelspec": {
      "name": "python3",
      "display_name": "Python 3"
    },
    "language_info": {
      "name": "python"
    }
  },
  "cells": [
    {
      "cell_type": "markdown",
      "metadata": {
        "id": "view-in-github",
        "colab_type": "text"
      },
      "source": [
        "<a href=\"https://colab.research.google.com/github/Yanyayayaya/cpython/blob/main/split_images.ipynb\" target=\"_parent\"><img src=\"https://colab.research.google.com/assets/colab-badge.svg\" alt=\"Open In Colab\"/></a>"
      ]
    },
    {
      "cell_type": "code",
      "source": [
        "from google.colab import drive\n",
        "drive.mount('/content/drive')"
      ],
      "metadata": {
        "colab": {
          "base_uri": "https://localhost:8080/"
        },
        "id": "XyslMepDrcov",
        "outputId": "b6872fa2-738a-48e2-dd8d-a10df1f5914b"
      },
      "execution_count": null,
      "outputs": [
        {
          "output_type": "stream",
          "name": "stdout",
          "text": [
            "Mounted at /content/drive\n"
          ]
        }
      ]
    },
    {
      "cell_type": "code",
      "source": [
        "# for chip 1&2 \n",
        "# just change the experiment date\n",
        "import os\n",
        "import glob\n",
        "from PIL import Image\n",
        "Image.MAX_IMAGE_PIXELS = None # to avoid image size warning\n",
        "\n",
        "imgdir = \"/content/drive/MyDrive/Soil Microbiome/image data/old/12142022/12142022_soil_image_grouped/12142022_soil_image_chip1_2\"\n",
        "# if you want file of a specific extension (.png):\n",
        "filelist = [f for f in glob.glob(imgdir + \"**/*.jpg\", recursive=True)]\n",
        "savedir = \"/content/drive/MyDrive/Soil Microbiome/image data/old/12142022/12142022_soil_image_split/12142022_soil_image_split1_2\"\n",
        "\n",
        "start_pos = start_x, start_y = (0, 0)\n",
        "cropped_image_size = w, h = (1010, 1010)\n",
        "\n",
        "for file in filelist:\n",
        "    img = Image.open(file)\n",
        "    width, height = img.size\n",
        "\n",
        "    frame_num = 1\n",
        "    for col_i in range(0, width, int(w)):\n",
        "        for row_i in range(0, height, int(h)):\n",
        "            crop = img.crop((col_i, row_i, col_i + w, row_i + h))\n",
        "            name = os.path.basename(file)\n",
        "            name = os.path.splitext(name)[0]\n",
        "            save_to= os.path.join(savedir, name+\"_{:03}.png\")\n",
        "            crop.save(save_to.format(frame_num))\n",
        "            frame_num += 1"
      ],
      "metadata": {
        "id": "vbS3URoOAm77"
      },
      "execution_count": null,
      "outputs": []
    },
    {
      "cell_type": "code",
      "source": [
        "# for chip 3&4\n",
        "\n",
        "import os\n",
        "import glob\n",
        "from PIL import Image\n",
        "Image.MAX_IMAGE_PIXELS = None # to avoid image size warning\n",
        "\n",
        "imgdir = \"/content/drive/MyDrive/Soil Microbiome/image data/old/12142022/12142022_soil_image_grouped/12142022_soil_image_chip3_4\"\n",
        "# if you want file of a specific extension (.png):\n",
        "filelist = [f for f in glob.glob(imgdir + \"**/*.jpg\", recursive=True)]\n",
        "savedir = \"/content/drive/MyDrive/Soil Microbiome/image data/old/12142022/12142022_soil_image_split/12142022_soil_image_split3_4\"\n",
        "\n",
        "start_pos = start_x, start_y = (0, 0)\n",
        "cropped_image_size = w, h = (1010, 1010)\n",
        "\n",
        "for file in filelist:\n",
        "    img = Image.open(file)\n",
        "    width, height = img.size\n",
        "\n",
        "    frame_num = 1\n",
        "    for col_i in range(0, width, int(w)):\n",
        "        for row_i in range(0, height, int(h)):\n",
        "            crop = img.crop((col_i, row_i, col_i + w, row_i + h))\n",
        "            name = os.path.basename(file)\n",
        "            name = os.path.splitext(name)[0]\n",
        "            save_to= os.path.join(savedir, name+\"_{:03}.png\")\n",
        "            crop.save(save_to.format(frame_num))\n",
        "            frame_num += 1"
      ],
      "metadata": {
        "id": "zBLWqDDYjztM"
      },
      "execution_count": null,
      "outputs": []
    },
    {
      "cell_type": "code",
      "source": [
        "# for chip 5&6\n",
        "\n",
        "import os\n",
        "import glob\n",
        "from PIL import Image\n",
        "Image.MAX_IMAGE_PIXELS = None # to avoid image size warning\n",
        "\n",
        "imgdir = \"/content/drive/MyDrive/Soil Microbiome/image data/old/12142022/12142022_soil_image_grouped/12142022_soil_image_chip5_6\"\n",
        "# if you want file of a specific extension (.png):\n",
        "filelist = [f for f in glob.glob(imgdir + \"**/*.jpg\", recursive=True)]\n",
        "savedir = \"/content/drive/MyDrive/Soil Microbiome/image data/old/12142022/12142022_soil_image_split/12142022_soil_image_split5_6\"\n",
        "\n",
        "start_pos = start_x, start_y = (0, 0)\n",
        "cropped_image_size = w, h = (1010, 1010)\n",
        "\n",
        "for file in filelist:\n",
        "    img = Image.open(file)\n",
        "    width, height = img.size\n",
        "\n",
        "    frame_num = 1\n",
        "    for col_i in range(0, width, int(w)):\n",
        "        for row_i in range(0, height, int(h)):\n",
        "            crop = img.crop((col_i, row_i, col_i + w, row_i + h))\n",
        "            name = os.path.basename(file)\n",
        "            name = os.path.splitext(name)[0]\n",
        "            save_to= os.path.join(savedir, name+\"_{:03}.png\")\n",
        "            crop.save(save_to.format(frame_num))\n",
        "            frame_num += 1"
      ],
      "metadata": {
        "id": "P_ZOw9S0Ap-x"
      },
      "execution_count": null,
      "outputs": []
    },
    {
      "cell_type": "code",
      "source": [
        "# for chip 7&8\n",
        "\n",
        "import os\n",
        "import glob\n",
        "from PIL import Image\n",
        "Image.MAX_IMAGE_PIXELS = None # to avoid image size warning\n",
        "\n",
        "imgdir = \"/content/drive/MyDrive/Soil Microbiome/image data/old/12142022/12142022_soil_image_grouped/12142022_soil_image_chip7_8\"\n",
        "# if you want file of a specific extension (.png):\n",
        "filelist = [f for f in glob.glob(imgdir + \"**/*.jpg\", recursive=True)]\n",
        "savedir = \"/content/drive/MyDrive/Soil Microbiome/image data/old/12142022/12142022_soil_image_split/12142022_soil_image_split7_8\"\n",
        "\n",
        "start_pos = start_x, start_y = (0, 0)\n",
        "cropped_image_size = w, h = (1010, 1010)\n",
        "\n",
        "for file in filelist:\n",
        "    img = Image.open(file)\n",
        "    width, height = img.size\n",
        "\n",
        "    frame_num = 1\n",
        "    for col_i in range(0, width, int(w)):\n",
        "        for row_i in range(0, height, int(h)):\n",
        "            crop = img.crop((col_i, row_i, col_i + w, row_i + h))\n",
        "            name = os.path.basename(file)\n",
        "            name = os.path.splitext(name)[0]\n",
        "            save_to= os.path.join(savedir, name+\"_{:03}.png\")\n",
        "            crop.save(save_to.format(frame_num))\n",
        "            frame_num += 1"
      ],
      "metadata": {
        "id": "TjjWNMLVAq3c"
      },
      "execution_count": null,
      "outputs": []
    },
    {
      "cell_type": "code",
      "source": [
        "# for chip 9&10 \n",
        "\n",
        "import os\n",
        "import glob\n",
        "from PIL import Image\n",
        "Image.MAX_IMAGE_PIXELS = None # to avoid image size warning\n",
        "\n",
        "imgdir = \"/content/drive/MyDrive/Soil Microbiome/image data/old/12142022/12142022_soil_image_grouped/12142022_soil_image_chip9_10\"\n",
        "# if you want file of a specific extension (.png):\n",
        "filelist = [f for f in glob.glob(imgdir + \"**/*.jpg\", recursive=True)]\n",
        "savedir = \"/content/drive/MyDrive/Soil Microbiome/image data/old/12142022/12142022_soil_image_split/12142022_soil_image_split9_10\"\n",
        "\n",
        "start_pos = start_x, start_y = (0, 0)\n",
        "cropped_image_size = w, h = (1010, 1010)\n",
        "\n",
        "for file in filelist:\n",
        "    img = Image.open(file)\n",
        "    width, height = img.size\n",
        "\n",
        "    frame_num = 1\n",
        "    for col_i in range(0, width, int(w)):\n",
        "        for row_i in range(0, height, int(h)):\n",
        "            crop = img.crop((col_i, row_i, col_i + w, row_i + h))\n",
        "            name = os.path.basename(file)\n",
        "            name = os.path.splitext(name)[0]\n",
        "            save_to= os.path.join(savedir, name+\"_{:03}.png\")\n",
        "            crop.save(save_to.format(frame_num))\n",
        "            frame_num += 1"
      ],
      "metadata": {
        "id": "Q-dNc7k2ArlQ"
      },
      "execution_count": null,
      "outputs": []
    },
    {
      "cell_type": "code",
      "source": [
        "# for chip 11&12\n",
        "\n",
        "import os\n",
        "import glob\n",
        "from PIL import Image\n",
        "Image.MAX_IMAGE_PIXELS = None # to avoid image size warning\n",
        "\n",
        "imgdir = \"/content/drive/MyDrive/Soil Microbiome/image data/old/12142022/12142022_soil_image_grouped/12142022_soil_image_chip17_18\"\n",
        "# if you want file of a specific extension (.png):\n",
        "filelist = [f for f in glob.glob(imgdir + \"**/*.jpg\", recursive=True)]\n",
        "savedir = \"/content/drive/MyDrive/Soil Microbiome/image data/old/12142022/12142022_soil_image_split/12142022_soil_image_split17_18\"\n",
        "\n",
        "start_pos = start_x, start_y = (0, 0)\n",
        "cropped_image_size = w, h = (1010, 1010)\n",
        "\n",
        "for file in filelist:\n",
        "    img = Image.open(file)\n",
        "    width, height = img.size\n",
        "\n",
        "    frame_num = 1\n",
        "    for col_i in range(0, width, int(w)):\n",
        "        for row_i in range(0, height, int(h)):\n",
        "            crop = img.crop((col_i, row_i, col_i + w, row_i + h))\n",
        "            name = os.path.basename(file)\n",
        "            name = os.path.splitext(name)[0]\n",
        "            save_to= os.path.join(savedir, name+\"_{:03}.png\")\n",
        "            crop.save(save_to.format(frame_num))\n",
        "            frame_num += 1"
      ],
      "metadata": {
        "id": "aGbZ-Z_5BL-K"
      },
      "execution_count": null,
      "outputs": []
    }
  ]
}